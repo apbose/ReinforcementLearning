{
 "cells": [
  {
   "cell_type": "code",
   "execution_count": 1,
   "metadata": {},
   "outputs": [],
   "source": [
    "import gym\n",
    "import pybulletgym\n",
    "import pybulletgym.envs\n",
    "import numpy as np\n",
    "import math\n",
    "import matplotlib.pyplot as plt\n",
    "from numpy.linalg import pinv\n",
    "import time"
   ]
  },
  {
   "cell_type": "code",
   "execution_count": 2,
   "metadata": {},
   "outputs": [],
   "source": [
    "import torch\n",
    "import torch.nn as nn\n",
    "import torch.optim as optim\n",
    "import torch.nn.functional as F\n",
    "from torch.autograd import Variable\n",
    "from torch.distributions import Categorical\n",
    "from torch.distributions import MultivariateNormal"
   ]
  },
  {
   "cell_type": "code",
   "execution_count": 3,
   "metadata": {},
   "outputs": [
    {
     "name": "stdout",
     "output_type": "stream",
     "text": [
      "current_dir=/home/apurba/.virtualenvs/276c_assgn/lib/python3.6/site-packages/pybullet_envs/bullet\n",
      "options= \n"
     ]
    },
    {
     "data": {
      "text/plain": [
       "array([ 0.3928371 ,  0.3928371 , -0.68091764,  0.26561381,  0.5       ,\n",
       "        0.        ,  0.08333333,  0.        ])"
      ]
     },
     "execution_count": 3,
     "metadata": {},
     "output_type": "execute_result"
    }
   ],
   "source": [
    "env = gym.make(\"modified_gym_env:ReacherPyBulletEnv-v1\", rand_init = False)\n",
    "#env.render()\n",
    "env.reset()"
   ]
  },
  {
   "cell_type": "code",
   "execution_count": 4,
   "metadata": {},
   "outputs": [
    {
     "name": "stdout",
     "output_type": "stream",
     "text": [
      "9\n"
     ]
    }
   ],
   "source": [
    "learning_rate = 0.01\n",
    "gamma = 0.90\n",
    "\n",
    "num_states = env.observation_space.shape[0]\n",
    "print(num_states)"
   ]
  },
  {
   "cell_type": "code",
   "execution_count": 5,
   "metadata": {},
   "outputs": [],
   "source": [
    "class PolicyNetwork(nn.Module):\n",
    "    def __init__(self):\n",
    "        super(PolicyNetwork, self).__init__()\n",
    "        self.state_num = 8\n",
    "        self.action_num = 2\n",
    "        \n",
    "        #self.l1 = nn.Linear(self.state_num, 64, bias=False)\n",
    "        #self.l2 = nn.Linear(64, 64, bias=False)\n",
    "        #self.l3 = nn.Linear(64, self.action_num, bias=False)\n",
    "        self.l1 = nn.Linear(self.state_num, 128, bias=False)\n",
    "        self.l2 = nn.Linear(128, self.action_num, bias=False)\n",
    "        self.gamma = gamma\n",
    "        \n",
    "        # Episode policy and reward history \n",
    "        self.policy_episode = Variable(torch.Tensor()) \n",
    "        self.reward_episode = []   \n",
    "        # Overall return history\n",
    "        self.return_history = []\n",
    "        self.return_reward = []\n",
    "        self.return_history_stepzero = []\n",
    "        \n",
    "        self.policy_episode_eval = Variable(torch.Tensor()) \n",
    "        self.reward_episode_eval = []   \n",
    "\n",
    "        \n",
    "        self.episodesPeriter = []\n",
    "        self.sigmax = torch.nn.Parameter(torch.FloatTensor([0.1]))\n",
    "        self.sigmay = torch.nn.Parameter(torch.FloatTensor([0.1]))\n",
    "        #self.sigma = torch.nn.Parameter(torch.tensor([[0.1, 0], [0, 0.1]]))\n",
    "        \n",
    "\n",
    "\n",
    "\n",
    "    def forward(self, x):\n",
    "        \n",
    "        model = torch.nn.Sequential(\n",
    "                                    self.l1,\n",
    "                                    nn.Dropout(p=0.6),\n",
    "                                    #nn.ReLU(),\n",
    "                                    nn.Tanh(),\n",
    "                                    self.l2,\n",
    "                                    #nn.Dropout(p=0.6),\n",
    "                                    #nn.Tanh(),\n",
    "                                    #self.l3,\n",
    "                                    nn.Tanh()\n",
    "                                    )\n",
    "        return model(x)\n",
    "\n",
    "   \n",
    "\n",
    " "
   ]
  },
  {
   "cell_type": "code",
   "execution_count": 6,
   "metadata": {},
   "outputs": [],
   "source": [
    "class modtwoLink ():\n",
    "    \n",
    "\n",
    "    \n",
    "    def __init__(self, env, policy, part, totsteps, iterationsNo, learning_rate, gamma):\n",
    "        self.env = env\n",
    "        self.policy = policy\n",
    "        self.part = part\n",
    "        self.learning_rate = learning_rate\n",
    "        self.gamma = gamma\n",
    "        self.optimizer = optim.Adam(self.policy.parameters(), lr=learning_rate)\n",
    "        self.iterationsNo = iterationsNo\n",
    "        self.totsteps = totsteps\n",
    "        \n",
    "        self.iterations = []\n",
    "        \n",
    "        self.polHist_allepisodes = Variable(torch.Tensor())\n",
    "        self.rewHist_allepisodes = Variable(torch.Tensor())\n",
    "        self.rewHist_allepisodes_mod = Variable(torch.Tensor())\n",
    "    \n",
    "    def select_action(self, state):\n",
    " \n",
    "    \n",
    "        #Select an action (0 or 1) by running policy model and choosing based on the probabilities in state\n",
    "        state = torch.from_numpy(state).type(torch.FloatTensor)\n",
    "        probs = self.policy(state)#this will give the mean of x and y\n",
    "        mux = policy.sigmax.reshape(1)\n",
    "        muy = policy.sigmay.reshape(1)\n",
    "        if(mux < 0.001):\n",
    "            mux = mux + 0.001\n",
    "        if(muy < 0.001):\n",
    "            muy = muy + 0.001\n",
    "        covariance = torch.cat([mux, muy])\n",
    "        #print(covariance)\n",
    "        covariance_tensor = torch.FloatTensor(covariance)\n",
    "        c = MultivariateNormal(probs, torch.diag(torch.abs(covariance_tensor)))\n",
    "        #print(self.policy.sigma)\n",
    "        #c = MultivariateNormal(probs, self.policy.sigma)\n",
    "        action = c.sample()\n",
    "\n",
    "        if len(self.policy.policy_episode) > 0:\n",
    "            self.policy.policy_episode = torch.cat([self.policy.policy_episode, c.log_prob(action).reshape(1)])\n",
    "        else:\n",
    "            self.policy.policy_episode = (c.log_prob(action).reshape(1))\n",
    "        return action\n",
    "\n",
    "    def rewardFunction(self, polHistory, rewHistory, part = 1):\n",
    "\n",
    "        Rewards_tot = 0\n",
    "        rewards = []\n",
    "        for Reward in rewHistory[::-1]:\n",
    "            Rewards_tot = Reward + self.policy.gamma * Rewards_tot\n",
    "            rewards.insert(0, Rewards_tot)\n",
    "\n",
    "        if(self.part == 1):\n",
    "            #gainPerStep = rewards[0]\n",
    "            gainPerStep = sum(rewHistory)\n",
    "            gainZeroStep = rewards[0]\n",
    "            reward = rewards[0]*torch.sum(polHistory)\n",
    "            \n",
    "\n",
    "\n",
    "        if(self.part == 2):\n",
    "            gainPerStep = sum(rewHistory)\n",
    "            gainZeroStep = rewards[0]\n",
    "            rewards = torch.FloatTensor(rewards)\n",
    "            reward = torch.sum(torch.mul(polHistory, rewards))\n",
    "        \n",
    "        if(self.part == 3):\n",
    "            gainPerStep = sum(rewHistory)\n",
    "            gainZeroStep = rewards[0]\n",
    "            rewards = torch.FloatTensor(rewards)\n",
    "\n",
    "            if (len(self.polHist_allepisodes) > 0):\n",
    "\n",
    "                self.polHist_allepisodes = torch.cat([self.polHist_allepisodes, polHistory])\n",
    "                self.rewHist_allepisodes = torch.cat([self.rewHist_allepisodes, rewards])\n",
    "            else:\n",
    "                self.polHist_allepisodes = polHistory\n",
    "                self.rewHist_allepisodes = rewards\n",
    "\n",
    "            \n",
    "            #self.rewHist_allepisodes = (self.rewHist_allepisodes - self.rewHist_allepisodes.mean())/ (self.rewHist_allepisodes.std())\n",
    "            self.rewHist_allepisodes_mod = (self.rewHist_allepisodes - self.rewHist_allepisodes.mean())/ (self.rewHist_allepisodes.std())\n",
    "            reward = torch.sum(torch.mul(self.polHist_allepisodes, self.rewHist_allepisodes_mod))\n",
    "            #print(reward)\n",
    "        \n",
    "        \n",
    "        return reward, gainPerStep, gainZeroStep\n",
    "    \n",
    "    \n",
    "    def update_policy(self, reward, retTraj_tot, retTraj_tot_stepzero, episodes_iter):\n",
    "        #print(\"in update\")\n",
    "        # Update network weights\n",
    "        self.optimizer.zero_grad()\n",
    "        #print(reward)\n",
    "        reward.backward()\n",
    "        self.optimizer.step()\n",
    "        self.policy.return_history.append(retTraj_tot)\n",
    "        #self.policy.return_reward.append(reward)\n",
    "        self.policy.return_history_stepzero.append(retTraj_tot_stepzero)\n",
    "        self.policy.episodesPeriter.append(episodes_iter)\n",
    "    \n",
    "    def reinforceAlgo(self):\n",
    "    #running_reward = 10\n",
    "    \n",
    "        for iter in range(self.iterationsNo):\n",
    "            self.polHist_allepisodes = Variable(torch.Tensor())\n",
    "            self.rewHist_allepisodes = Variable(torch.Tensor())\n",
    "            #print(\"iteration no\",iter)\n",
    "            steps = 0\n",
    "            state = env.reset() # Reset environment, starting state recorded\n",
    "            done = False\n",
    "            episodes = 0;\n",
    "            rewardFunc = Variable(torch.FloatTensor([0])) \n",
    "            rewardEpisode = Variable(torch.FloatTensor()) \n",
    "            retTraj_tot = 0\n",
    "            retStepzero_tot = 0\n",
    "            #optimizer.zero_grad()\n",
    "            while(steps < self.totsteps):\n",
    "                steps += 1;\n",
    "                action = self.select_action(state)\n",
    "                # Step through environment using chosen action\n",
    "                state, reward, done, _ = env.step(action)\n",
    "                #env.render()\n",
    "            \n",
    "            # Save reward\n",
    "                self.policy.reward_episode.append(reward)\n",
    "                if (done == True):\n",
    "                    rewardEpisode, retTraj, retStepzero = self.rewardFunction(self.policy.policy_episode, self.policy.reward_episode, self.part)\n",
    "                    if(self.part != 3):\n",
    "                        rewardFunc += rewardEpisode\n",
    "                    retTraj_tot += retTraj\n",
    "                    retStepzero_tot += retStepzero\n",
    "                    #reset the environment again\n",
    "                    self.policy.policy_episode = Variable(torch.Tensor()) \n",
    "                    self.policy.reward_episode = []\n",
    "                    state = env.reset()\n",
    "                    done = False\n",
    "                    episodes += 1\n",
    "                \n",
    "            if(self.part == 3):\n",
    "                 rewardFunc += rewardEpisode\n",
    "            if(episodes > 0):\n",
    "                self.update_policy(-1 * rewardFunc/episodes, retTraj_tot/episodes,retStepzero_tot/episodes, episodes)\n",
    "            else:\n",
    "                self.update_policy(-1 * rewardFunc, retTraj_tot, retStepzero_tot, 0)\n",
    "            self.iterations.append(iter)\n",
    "    \n",
    "    \n"
   ]
  },
  {
   "cell_type": "code",
   "execution_count": 7,
   "metadata": {},
   "outputs": [],
   "source": [
    "state = env.reset()\n",
    "policy = PolicyNetwork()\n",
    "twoLink = modtwoLink(env= env, policy = policy, part = 3, totsteps = 1000, iterationsNo = 110, learning_rate = 0.01, gamma = 0.90)\n",
    "twoLink.reinforceAlgo()\n"
   ]
  },
  {
   "cell_type": "markdown",
   "metadata": {},
   "source": [
    "The below graphs denote the average rewards, average discounted reward and the no of episodes varying with the iteration. The no of episodes and rewards should increase with no of iterations."
   ]
  },
  {
   "cell_type": "code",
   "execution_count": 8,
   "metadata": {},
   "outputs": [
    {
     "data": {
      "image/png": "[encoded data removed]",
      "text/plain": [
       "<Figure size 432x288 with 1 Axes>"
      ]
     },
     "metadata": {
      "needs_background": "light"
     },
     "output_type": "display_data"
    },
    {
     "data": {
      "image/png": "[encoded data removed]",
      "text/plain": [
       "<Figure size 432x288 with 1 Axes>"
      ]
     },
     "metadata": {
      "needs_background": "light"
     },
     "output_type": "display_data"
    },
    {
     "data": {
      "image/png": "[encoded data removed]",
      "text/plain": [
       "<Figure size 432x288 with 1 Axes>"
      ]
     },
     "metadata": {
      "needs_background": "light"
     },
     "output_type": "display_data"
    }
   ],
   "source": [
    "plt.plot(twoLink.iterations,twoLink.policy.return_history, color='b');\n",
    "plt.xlabel(\"iterations\")\n",
    "plt.ylabel(\"return_trajectory\")\n",
    "plt.show()\n",
    "\n",
    "plt.plot(twoLink.iterations,twoLink.policy.return_history_stepzero, color='b');\n",
    "plt.xlabel(\"iterations\")\n",
    "plt.ylabel(\"return_trajectory\")\n",
    "plt.show()\n",
    "\n",
    "\n",
    "plt.plot(twoLink.iterations,twoLink.policy.episodesPeriter, color='b');\n",
    "plt.xlabel(\"iterations\")\n",
    "plt.ylabel(\"episodes\")\n",
    "plt.show()"
   ]
  },
  {
   "cell_type": "markdown",
   "metadata": {},
   "source": [
    "For evaluation, sampling the x, y values from the mean obtained from the network"
   ]
  },
  {
   "cell_type": "code",
   "execution_count": 9,
   "metadata": {},
   "outputs": [],
   "source": [
    "def select_action_eval(state):\n",
    "    #Select an action (0 or 1) by running policy model and choosing based on the probabilities in state\n",
    "    state = torch.from_numpy(state).type(torch.FloatTensor)\n",
    "    action = policy(state)#this will give the mean of x and y\n",
    "\n",
    "\n",
    "\n",
    "    return action"
   ]
  },
  {
   "cell_type": "code",
   "execution_count": 10,
   "metadata": {},
   "outputs": [
    {
     "name": "stdout",
     "output_type": "stream",
     "text": [
      "options= \n",
      "False\n",
      "False\n",
      "False\n",
      "False\n",
      "False\n",
      "False\n",
      "False\n",
      "False\n",
      "False\n",
      "False\n",
      "False\n",
      "False\n",
      "False\n",
      "False\n",
      "False\n",
      "False\n",
      "False\n",
      "False\n",
      "False\n",
      "False\n",
      "False\n",
      "False\n",
      "False\n",
      "False\n",
      "False\n",
      "False\n",
      "False\n",
      "False\n",
      "False\n",
      "False\n",
      "False\n",
      "False\n",
      "False\n",
      "False\n",
      "False\n",
      "False\n",
      "False\n",
      "False\n",
      "False\n",
      "False\n",
      "False\n",
      "False\n",
      "False\n",
      "False\n",
      "False\n",
      "False\n",
      "False\n",
      "False\n",
      "True\n",
      "49\n"
     ]
    }
   ],
   "source": [
    "env = gym.make(\"modified_gym_env:ReacherPyBulletEnv-v1\", rand_init=False)\n",
    "steps = 0\n",
    "env.render('human')\n",
    "state = env.reset()\n",
    "done = False\n",
    "while (steps<300 and done == False):\n",
    "        action = select_action_eval(state)\n",
    "        action_np = action.detach().numpy()\n",
    "        state, r, done, info = env.step(action_np)\n",
    "        steps+=1\n",
    "        env.render('human')\n",
    "        time.sleep(0.1)\n",
    "        print(done)\n",
    "\n",
    "print(steps)"
   ]
  },
  {
   "cell_type": "code",
   "execution_count": null,
   "metadata": {},
   "outputs": [],
   "source": [
    "env.close()"
   ]
  }
 ],
 "metadata": {
  "kernelspec": {
   "display_name": "Python 3",
   "language": "python",
   "name": "python3"
  },
  "language_info": {
   "codemirror_mode": {
    "name": "ipython",
    "version": 3
   },
   "file_extension": ".py",
   "mimetype": "text/x-python",
   "name": "python",
   "nbconvert_exporter": "python",
   "pygments_lexer": "ipython3",
   "version": "3.6.8"
  }
 },
 "nbformat": 4,
 "nbformat_minor": 2
}
